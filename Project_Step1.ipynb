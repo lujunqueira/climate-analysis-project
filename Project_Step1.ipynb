{
 "cells": [
  {
   "cell_type": "markdown",
   "id": "b0732986-a90e-46e8-a526-96791cdc17ba",
   "metadata": {},
   "source": [
    "### 1. Import Libraries"
   ]
  },
  {
   "cell_type": "code",
   "execution_count": 5,
   "id": "09673d17-36e5-4665-9cce-0962e41470e1",
   "metadata": {},
   "outputs": [],
   "source": [
    "import pandas as pd\n",
    "import matplotlib.pyplot as plt"
   ]
  },
  {
   "cell_type": "markdown",
   "id": "94830869-64f3-4414-a301-c12fb1f144fb",
   "metadata": {},
   "source": [
    "### 2. Load Datasets"
   ]
  },
  {
   "cell_type": "code",
   "execution_count": 6,
   "id": "93cefa9c-6be7-4ab8-a6bd-bcf517956106",
   "metadata": {},
   "outputs": [],
   "source": [
    "# Importing data frames\n",
    "df_climate = pd.read_csv(\"data/climate_change_indicators.csv\")\n",
    "df_ugly = pd.read_csv(\"data/data_is_ugly.csv\")\n",
    "df_weather = pd.read_csv(\"data/GlobalWeatherRepository.csv\")\n",
    "df_sleep = pd.read_csv(\"data/Sleep_health_and_lifestyle_dataset.csv\")\n",
    "df_imdb = pd.read_csv(\"data/IMDb_updated.csv\")"
   ]
  },
  {
   "cell_type": "markdown",
   "id": "c91fe2e3-3d4c-4c33-b28a-b399cb4e3d5f",
   "metadata": {
    "jp-MarkdownHeadingCollapsed": true
   },
   "source": [
    "### 3. Check Size and Structure"
   ]
  },
  {
   "cell_type": "code",
   "execution_count": 7,
   "id": "ef372e87-1210-4e19-a3fe-62cb461acebf",
   "metadata": {},
   "outputs": [
    {
     "name": "stdout",
     "output_type": "stream",
     "text": [
      "Dataset Size: 225 rows, 72 columns\n",
      "   ObjectId                       Country ISO2 ISO3  \\\n",
      "0         1  Afghanistan, Islamic Rep. of   AF  AFG   \n",
      "1         2                       Albania   AL  ALB   \n",
      "2         3                       Algeria   DZ  DZA   \n",
      "3         4                American Samoa   AS  ASM   \n",
      "4         5      Andorra, Principality of   AD  AND   \n",
      "\n",
      "                                           Indicator            Unit  \\\n",
      "0  Temperature change with respect to a baseline ...  Degree Celsius   \n",
      "1  Temperature change with respect to a baseline ...  Degree Celsius   \n",
      "2  Temperature change with respect to a baseline ...  Degree Celsius   \n",
      "3  Temperature change with respect to a baseline ...  Degree Celsius   \n",
      "4  Temperature change with respect to a baseline ...  Degree Celsius   \n",
      "\n",
      "                                              Source CTS_Code  \\\n",
      "0  Food and Agriculture Organization of the Unite...     ECCS   \n",
      "1  Food and Agriculture Organization of the Unite...     ECCS   \n",
      "2  Food and Agriculture Organization of the Unite...     ECCS   \n",
      "3  Food and Agriculture Organization of the Unite...     ECCS   \n",
      "4  Food and Agriculture Organization of the Unite...     ECCS   \n",
      "\n",
      "                     CTS_Name  \\\n",
      "0  Surface Temperature Change   \n",
      "1  Surface Temperature Change   \n",
      "2  Surface Temperature Change   \n",
      "3  Surface Temperature Change   \n",
      "4  Surface Temperature Change   \n",
      "\n",
      "                                 CTS_Full_Descriptor  ...  F2013  F2014  \\\n",
      "0  Environment, Climate Change, Climate Indicator...  ...  1.281  0.456   \n",
      "1  Environment, Climate Change, Climate Indicator...  ...  1.333  1.198   \n",
      "2  Environment, Climate Change, Climate Indicator...  ...  1.192  1.690   \n",
      "3  Environment, Climate Change, Climate Indicator...  ...  1.257  1.170   \n",
      "4  Environment, Climate Change, Climate Indicator...  ...  0.831  1.946   \n",
      "\n",
      "   F2015  F2016  F2017  F2018  F2019  F2020  F2021  F2022  \n",
      "0  1.093  1.555  1.540  1.544  0.910  0.498  1.327  2.012  \n",
      "1  1.569  1.464  1.121  2.028  1.675  1.498  1.536  1.518  \n",
      "2  1.121  1.757  1.512  1.210  1.115  1.926  2.330  1.688  \n",
      "3  1.009  1.539  1.435  1.189  1.539  1.430  1.268  1.256  \n",
      "4  1.690  1.990  1.925  1.919  1.964  2.562  1.533  3.243  \n",
      "\n",
      "[5 rows x 72 columns]\n"
     ]
    }
   ],
   "source": [
    "# Preview dataset Climate\n",
    "print(\"Dataset Size: {} rows, {} columns\".format(df_climate.shape[0], df_climate.shape[1]))\n",
    "print(df_climate.head())\n",
    "# Pass"
   ]
  },
  {
   "cell_type": "code",
   "execution_count": 8,
   "id": "ea094196-6e8f-4de1-a3e7-df1b91972d21",
   "metadata": {},
   "outputs": [
    {
     "name": "stdout",
     "output_type": "stream",
     "text": [
      "Dataset Size: 8596 rows, 10 columns\n",
      "  post_id           created_at  \\\n",
      "0  xcmklj  2022-09-12 20:03:15   \n",
      "1  xckzxj  2022-09-12 18:54:50   \n",
      "2  xcd52w  2022-09-12 13:40:16   \n",
      "3  xcbjt6  2022-09-12 12:30:07   \n",
      "4  xcbjhv  2022-09-12 12:29:45   \n",
      "\n",
      "                                               title link_flair_text  score  \\\n",
      "0  Infographic that came with my North Carolina v...             NaN      1   \n",
      "1  You cannot tell me those are different shades ...             NaN      1   \n",
      "2                                             Neymar     Clusterfuck      1   \n",
      "3            Youngest WORLD Number 1 In the OPEN ERA             NaN      1   \n",
      "4                                  why the tails omg             NaN      1   \n",
      "\n",
      "   num_comments   posted_by                            image_url  \\\n",
      "0             0  TheTraceur  https://i.redd.it/q5aqzkcqhhn91.jpg   \n",
      "1             0       Fnorv  https://i.redd.it/1r4jft2i2fn91.jpg   \n",
      "2             0  RedFlare07  https://i.redd.it/r6a3i6jllfn91.jpg   \n",
      "3             0  PhillyManc  https://i.redd.it/cq2akup8kbn91.png   \n",
      "4             0  biglezmate  https://i.redd.it/zv0nz7jmpcn91.png   \n",
      "\n",
      "                                           full_link   nsfw  \n",
      "0  https://www.reddit.com/r/dataisugly/comments/x...  False  \n",
      "1  https://www.reddit.com/r/dataisugly/comments/x...  False  \n",
      "2  https://www.reddit.com/r/dataisugly/comments/x...  False  \n",
      "3  https://www.reddit.com/r/dataisugly/comments/x...  False  \n",
      "4  https://www.reddit.com/r/dataisugly/comments/x...  False  \n"
     ]
    }
   ],
   "source": [
    "# Preview dataset Ugly\n",
    "print(\"Dataset Size: {} rows, {} columns\".format(df_ugly.shape[0], df_ugly.shape[1]))\n",
    "print(df_ugly.head())\n",
    "# Not Pass, many links that are not working anymore"
   ]
  },
  {
   "cell_type": "code",
   "execution_count": 9,
   "id": "768287b5-5db2-4ea6-928a-dc825804c6b5",
   "metadata": {},
   "outputs": [
    {
     "name": "stdout",
     "output_type": "stream",
     "text": [
      "Dataset Size: 374 rows, 13 columns\n",
      "   Person ID Gender  Age            Occupation  Sleep Duration  \\\n",
      "0          1   Male   27     Software Engineer             6.1   \n",
      "1          2   Male   28                Doctor             6.2   \n",
      "2          3   Male   28                Doctor             6.2   \n",
      "3          4   Male   28  Sales Representative             5.9   \n",
      "4          5   Male   28  Sales Representative             5.9   \n",
      "\n",
      "   Quality of Sleep  Physical Activity Level  Stress Level BMI Category  \\\n",
      "0                 6                       42             6   Overweight   \n",
      "1                 6                       60             8       Normal   \n",
      "2                 6                       60             8       Normal   \n",
      "3                 4                       30             8        Obese   \n",
      "4                 4                       30             8        Obese   \n",
      "\n",
      "  Blood Pressure  Heart Rate  Daily Steps Sleep Disorder  \n",
      "0         126/83          77         4200            NaN  \n",
      "1         125/80          75        10000            NaN  \n",
      "2         125/80          75        10000            NaN  \n",
      "3         140/90          85         3000    Sleep Apnea  \n",
      "4         140/90          85         3000    Sleep Apnea  \n"
     ]
    }
   ],
   "source": [
    "# Preview dataset Sleep\n",
    "print(\"Dataset Size: {} rows, {} columns\".format(df_sleep.shape[0], df_sleep.shape[1]))\n",
    "print(df_sleep.head())\n",
    "# Not Pass, too small for this objective"
   ]
  },
  {
   "cell_type": "code",
   "execution_count": 94,
   "id": "f82cde07-4e97-4982-9066-316c84713e26",
   "metadata": {},
   "outputs": [
    {
     "name": "stdout",
     "output_type": "stream",
     "text": [
      "Dataset Size: 40346 rows, 41 columns\n",
      "       country     location_name  latitude  longitude        timezone  \\\n",
      "0  Afghanistan             Kabul     34.52      69.18      Asia/Kabul   \n",
      "1      Albania            Tirana     41.33      19.82   Europe/Tirane   \n",
      "2      Algeria           Algiers     36.76       3.05  Africa/Algiers   \n",
      "3      Andorra  Andorra La Vella     42.50       1.52  Europe/Andorra   \n",
      "4       Angola            Luanda     -8.84      13.23   Africa/Luanda   \n",
      "\n",
      "   last_updated_epoch      last_updated  temperature_celsius  \\\n",
      "0          1693301400  2023-08-29 14:00                 28.8   \n",
      "1          1693301400  2023-08-29 11:30                 27.0   \n",
      "2          1693301400  2023-08-29 10:30                 28.0   \n",
      "3          1693301400  2023-08-29 11:30                 10.2   \n",
      "4          1693301400  2023-08-29 10:30                 25.0   \n",
      "\n",
      "   temperature_fahrenheit condition_text  ...  air_quality_PM2.5  \\\n",
      "0                    83.8          Sunny  ...                7.9   \n",
      "1                    80.6  Partly cloudy  ...               28.2   \n",
      "2                    82.4  Partly cloudy  ...                6.4   \n",
      "3                    50.4          Sunny  ...                0.5   \n",
      "4                    77.0  Partly cloudy  ...              139.6   \n",
      "\n",
      "   air_quality_PM10  air_quality_us-epa-index air_quality_gb-defra-index  \\\n",
      "0              11.1                         1                          1   \n",
      "1              29.6                         2                          3   \n",
      "2               7.9                         1                          1   \n",
      "3               0.8                         1                          1   \n",
      "4             203.3                         4                         10   \n",
      "\n",
      "    sunrise    sunset  moonrise   moonset      moon_phase  moon_illumination  \n",
      "0  05:24 AM  06:24 PM  05:39 PM  02:48 AM  Waxing Gibbous                 93  \n",
      "1  06:04 AM  07:19 PM  06:50 PM  03:25 AM  Waxing Gibbous                 93  \n",
      "2  06:16 AM  07:21 PM  06:46 PM  03:50 AM  Waxing Gibbous                 93  \n",
      "3  07:16 AM  08:34 PM  08:08 PM  04:38 AM  Waxing Gibbous                 93  \n",
      "4  06:11 AM  06:06 PM  04:43 PM  04:41 AM  Waxing Gibbous                 93  \n",
      "\n",
      "[5 rows x 41 columns]\n"
     ]
    }
   ],
   "source": [
    "# Preview dataset Weather\n",
    "print(\"Dataset Size: {} rows, {} columns\".format(df_weather.shape[0], df_weather.shape[1]))\n",
    "print(df_weather.head())\n",
    "# Pass"
   ]
  },
  {
   "cell_type": "code",
   "execution_count": 10,
   "id": "c99b69c1-359e-4dba-8e0c-561bc39c05d9",
   "metadata": {},
   "outputs": [
    {
     "name": "stdout",
     "output_type": "stream",
     "text": [
      "Dataset Size: 10000 rows, 6 columns\n",
      "   Unnamed: 0                           title  \\\n",
      "0           0                        Ad Astra   \n",
      "1           1                       Bloodshot   \n",
      "2           2               Bad Boys for Life   \n",
      "3           3                         Ant-Man   \n",
      "4           4  Percy Jackson: Sea of Monsters   \n",
      "\n",
      "                                            overview original_language  \\\n",
      "0  The near future, a time when both hope and har...                en   \n",
      "1  After he and his wife are murdered, marine Ray...                en   \n",
      "2  Marcus and Mike are forced to confront new thr...                en   \n",
      "3  Armed with the astonishing ability to shrink i...                en   \n",
      "4  In their quest to confront the ultimate evil, ...                en   \n",
      "\n",
      "   vote_count  vote_average  \n",
      "0        2853           5.9  \n",
      "1        1349           7.2  \n",
      "2        2530           7.1  \n",
      "3       13611           7.1  \n",
      "4        3542           5.9  \n"
     ]
    }
   ],
   "source": [
    "# Preview dataset IMDB movies\n",
    "print(\"Dataset Size: {} rows, {} columns\".format(df_imdb.shape[0], df_imdb.shape[1]))\n",
    "print(df_imdb.head())\n",
    "# Pass"
   ]
  },
  {
   "cell_type": "markdown",
   "id": "8384a199-687b-4b61-b831-efbc1ee2bc50",
   "metadata": {
    "jp-MarkdownHeadingCollapsed": true
   },
   "source": [
    "### 4. Data Types, Formats and Missing Values"
   ]
  },
  {
   "cell_type": "code",
   "execution_count": 11,
   "id": "6a14be93-3993-4287-95b3-87043eede24f",
   "metadata": {},
   "outputs": [
    {
     "name": "stdout",
     "output_type": "stream",
     "text": [
      "ObjectId       int64\n",
      "Country       object\n",
      "ISO2          object\n",
      "ISO3          object\n",
      "Indicator     object\n",
      "              ...   \n",
      "F2018        float64\n",
      "F2019        float64\n",
      "F2020        float64\n",
      "F2021        float64\n",
      "F2022        float64\n",
      "Length: 72, dtype: object\n",
      "ObjectId      0\n",
      "Country       0\n",
      "ISO2          2\n",
      "ISO3          0\n",
      "Indicator     0\n",
      "             ..\n",
      "F2018        12\n",
      "F2019        12\n",
      "F2020        13\n",
      "F2021        12\n",
      "F2022        12\n",
      "Length: 72, dtype: int64\n"
     ]
    }
   ],
   "source": [
    "# Data types climate\n",
    "print(df_climate.dtypes)\n",
    "print(df_climate.isnull().sum())"
   ]
  },
  {
   "cell_type": "code",
   "execution_count": 103,
   "id": "f87c4d4d-56ce-4ec0-b701-a9bf3939132e",
   "metadata": {},
   "outputs": [
    {
     "name": "stdout",
     "output_type": "stream",
     "text": [
      "country                          object\n",
      "location_name                    object\n",
      "latitude                        float64\n",
      "longitude                       float64\n",
      "timezone                         object\n",
      "last_updated_epoch                int64\n",
      "last_updated                     object\n",
      "temperature_celsius             float64\n",
      "temperature_fahrenheit          float64\n",
      "condition_text                   object\n",
      "wind_mph                        float64\n",
      "wind_kph                        float64\n",
      "wind_degree                       int64\n",
      "wind_direction                   object\n",
      "pressure_mb                     float64\n",
      "pressure_in                     float64\n",
      "precip_mm                       float64\n",
      "precip_in                       float64\n",
      "humidity                          int64\n",
      "cloud                             int64\n",
      "feels_like_celsius              float64\n",
      "feels_like_fahrenheit           float64\n",
      "visibility_km                   float64\n",
      "visibility_miles                float64\n",
      "uv_index                        float64\n",
      "gust_mph                        float64\n",
      "gust_kph                        float64\n",
      "air_quality_Carbon_Monoxide     float64\n",
      "air_quality_Ozone               float64\n",
      "air_quality_Nitrogen_dioxide    float64\n",
      "air_quality_Sulphur_dioxide     float64\n",
      "air_quality_PM2.5               float64\n",
      "air_quality_PM10                float64\n",
      "air_quality_us-epa-index          int64\n",
      "air_quality_gb-defra-index        int64\n",
      "sunrise                          object\n",
      "sunset                           object\n",
      "moonrise                         object\n",
      "moonset                          object\n",
      "moon_phase                       object\n",
      "moon_illumination                 int64\n",
      "dtype: object\n",
      "country                         0\n",
      "location_name                   0\n",
      "latitude                        0\n",
      "longitude                       0\n",
      "timezone                        0\n",
      "last_updated_epoch              0\n",
      "last_updated                    0\n",
      "temperature_celsius             0\n",
      "temperature_fahrenheit          0\n",
      "condition_text                  0\n",
      "wind_mph                        0\n",
      "wind_kph                        0\n",
      "wind_degree                     0\n",
      "wind_direction                  0\n",
      "pressure_mb                     0\n",
      "pressure_in                     0\n",
      "precip_mm                       0\n",
      "precip_in                       0\n",
      "humidity                        0\n",
      "cloud                           0\n",
      "feels_like_celsius              0\n",
      "feels_like_fahrenheit           0\n",
      "visibility_km                   0\n",
      "visibility_miles                0\n",
      "uv_index                        0\n",
      "gust_mph                        0\n",
      "gust_kph                        0\n",
      "air_quality_Carbon_Monoxide     0\n",
      "air_quality_Ozone               0\n",
      "air_quality_Nitrogen_dioxide    0\n",
      "air_quality_Sulphur_dioxide     0\n",
      "air_quality_PM2.5               0\n",
      "air_quality_PM10                0\n",
      "air_quality_us-epa-index        0\n",
      "air_quality_gb-defra-index      0\n",
      "sunrise                         0\n",
      "sunset                          0\n",
      "moonrise                        0\n",
      "moonset                         0\n",
      "moon_phase                      0\n",
      "moon_illumination               0\n",
      "dtype: int64\n"
     ]
    }
   ],
   "source": [
    "# Data types Weather\n",
    "print(df_weather.dtypes)\n",
    "print(df_weather.isnull().sum())"
   ]
  },
  {
   "cell_type": "code",
   "execution_count": 12,
   "id": "2588b686-4e58-432a-8185-a9d730ea2adf",
   "metadata": {},
   "outputs": [
    {
     "name": "stdout",
     "output_type": "stream",
     "text": [
      "Unnamed: 0             int64\n",
      "title                 object\n",
      "overview              object\n",
      "original_language     object\n",
      "vote_count             int64\n",
      "vote_average         float64\n",
      "dtype: object\n",
      "Unnamed: 0            0\n",
      "title                 0\n",
      "overview             30\n",
      "original_language     0\n",
      "vote_count            0\n",
      "vote_average          0\n",
      "dtype: int64\n"
     ]
    }
   ],
   "source": [
    "# Data types IMDB\n",
    "print(df_imdb.dtypes)\n",
    "print(df_imdb.isnull().sum())"
   ]
  },
  {
   "cell_type": "markdown",
   "id": "8d54a757-a2ec-4af6-be2f-3c04b89dcdff",
   "metadata": {
    "jp-MarkdownHeadingCollapsed": true
   },
   "source": [
    "### 5. Statistical Summary"
   ]
  },
  {
   "cell_type": "code",
   "execution_count": 108,
   "id": "dd8ef7d5-1a87-44d1-b6aa-61a5b4343c19",
   "metadata": {},
   "outputs": [
    {
     "name": "stdout",
     "output_type": "stream",
     "text": [
      "         ObjectId       F1961       F1962       F1963       F1964       F1965  \\\n",
      "count  225.000000  188.000000  189.000000  188.000000  188.000000  188.000000   \n",
      "mean   113.000000    0.163053   -0.013476   -0.006043   -0.070059   -0.247027   \n",
      "std     65.096083    0.405080    0.341812    0.387348    0.309305    0.270734   \n",
      "min      1.000000   -0.694000   -0.908000   -1.270000   -0.877000   -1.064000   \n",
      "25%     57.000000   -0.097000   -0.164000   -0.205500   -0.236500   -0.392500   \n",
      "50%    113.000000    0.064500   -0.056000   -0.003000   -0.056000   -0.230500   \n",
      "75%    169.000000    0.318500    0.114000    0.230500    0.132500   -0.091500   \n",
      "max    225.000000    1.892000    0.998000    1.202000    1.097000    0.857000   \n",
      "\n",
      "            F1966       F1967       F1968       F1969  ...       F2013  \\\n",
      "count  192.000000  191.000000  191.000000  190.000000  ...  216.000000   \n",
      "mean     0.105505   -0.110832   -0.199110    0.157942  ...    0.931199   \n",
      "std      0.378423    0.339484    0.270131    0.308540  ...    0.321595   \n",
      "min     -1.801000   -1.048000   -1.634000   -0.900000  ...    0.118000   \n",
      "25%     -0.035750   -0.259500   -0.340000   -0.009000  ...    0.743500   \n",
      "50%      0.098000   -0.146000   -0.187000    0.204000  ...    0.897000   \n",
      "75%      0.277000    0.015000   -0.067000    0.349000  ...    1.187500   \n",
      "max      1.151000    1.134000    0.476000    0.939000  ...    1.643000   \n",
      "\n",
      "            F2014       F2015       F2016       F2017       F2018       F2019  \\\n",
      "count  216.000000  216.000000  213.000000  214.000000  213.000000  213.000000   \n",
      "mean     1.114815    1.269773    1.439521    1.280785    1.302113    1.443061   \n",
      "std      0.564903    0.462162    0.401091    0.393999    0.596786    0.467510   \n",
      "min     -0.092000   -0.430000    0.250000    0.017000    0.238000    0.050000   \n",
      "25%      0.744000    1.017750    1.147000    1.027500    0.865000    1.169000   \n",
      "50%      0.986500    1.215000    1.446000    1.282000    1.125000    1.412000   \n",
      "75%      1.335500    1.520500    1.714000    1.535000    1.834000    1.698000   \n",
      "max      2.704000    2.613000    2.459000    2.493000    2.772000    2.689000   \n",
      "\n",
      "            F2020       F2021       F2022  \n",
      "count  212.000000  213.000000  213.000000  \n",
      "mean     1.552038    1.343531    1.382113  \n",
      "std      0.621930    0.484692    0.669279  \n",
      "min      0.229000   -0.425000   -1.305000  \n",
      "25%      1.161750    1.019000    0.878000  \n",
      "50%      1.477000    1.327000    1.315000  \n",
      "75%      1.826250    1.629000    1.918000  \n",
      "max      3.691000    2.676000    3.243000  \n",
      "\n",
      "[8 rows x 63 columns]\n"
     ]
    }
   ],
   "source": [
    "# Descriptive Statistics for Climate data\n",
    "print(df_climate.describe())\n",
    "# Pass"
   ]
  },
  {
   "cell_type": "code",
   "execution_count": 13,
   "id": "6c1e8ef3-93f9-4bc1-9da3-e57db65d798c",
   "metadata": {},
   "outputs": [
    {
     "name": "stdout",
     "output_type": "stream",
     "text": [
      "           latitude     longitude  last_updated_epoch  temperature_celsius  \\\n",
      "count  40346.000000  40346.000000        4.034600e+04         40346.000000   \n",
      "mean      19.298562     21.760141        1.702473e+09            19.179078   \n",
      "std       24.521626     65.682857        5.363903e+06            10.718576   \n",
      "min      -41.300000   -175.200000        1.693301e+09           -41.900000   \n",
      "25%        3.750000     -6.840000        1.697662e+09            12.000000   \n",
      "50%       17.250000     23.240000        1.702668e+09            22.000000   \n",
      "75%       41.320000     49.880000        1.707156e+09            27.000000   \n",
      "max       64.100000    179.220000        1.711556e+09            45.400000   \n",
      "\n",
      "       temperature_fahrenheit      wind_mph      wind_kph   wind_degree  \\\n",
      "count            40346.000000  40346.000000  40346.000000  40346.000000   \n",
      "mean                66.522233      7.471611     12.027016    162.518242   \n",
      "std                 19.293569      5.172169      8.325958    106.324676   \n",
      "min                -43.400000      2.200000      3.600000      1.000000   \n",
      "25%                 53.600000      3.800000      6.100000     70.000000   \n",
      "50%                 71.600000      5.800000      9.400000    150.000000   \n",
      "75%                 80.600000     10.500000     16.900000    250.000000   \n",
      "max                113.700000     91.900000    148.000000    360.000000   \n",
      "\n",
      "        pressure_mb   pressure_in  ...      gust_kph  \\\n",
      "count  40346.000000  40346.000000  ...  40346.000000   \n",
      "mean    1013.890943     29.939522  ...     20.027718   \n",
      "std        7.437666      0.219491  ...     11.906650   \n",
      "min      958.000000     28.290000  ...      0.000000   \n",
      "25%     1010.000000     29.830000  ...     11.100000   \n",
      "50%     1013.000000     29.910000  ...     18.000000   \n",
      "75%     1018.000000     30.060000  ...     26.300000   \n",
      "max     1074.000000     31.710000  ...    155.200000   \n",
      "\n",
      "       air_quality_Carbon_Monoxide  air_quality_Ozone  \\\n",
      "count                 40346.000000       40346.000000   \n",
      "mean                    577.529794          43.759971   \n",
      "std                    1382.216080          32.658034   \n",
      "min                      96.800000           0.000000   \n",
      "25%                     237.000000          18.400000   \n",
      "50%                     290.400000          40.800000   \n",
      "75%                     447.300000          63.700000   \n",
      "max                   41870.102000         555.000000   \n",
      "\n",
      "       air_quality_Nitrogen_dioxide  air_quality_Sulphur_dioxide  \\\n",
      "count                  40346.000000                 40346.000000   \n",
      "mean                      14.511496                     8.242131   \n",
      "std                       27.044095                    22.470273   \n",
      "min                        0.000000                     0.000000   \n",
      "25%                        1.000000                     0.500000   \n",
      "50%                        4.500000                     1.800000   \n",
      "75%                       15.600000                     6.400000   \n",
      "max                      575.800000                   557.000000   \n",
      "\n",
      "       air_quality_PM2.5  air_quality_PM10  air_quality_us-epa-index  \\\n",
      "count       40346.000000       40346.00000              40346.000000   \n",
      "mean           25.276535          45.65170                  1.613791   \n",
      "std            63.684429         106.59568                  1.067879   \n",
      "min             0.500000           0.50000                  1.000000   \n",
      "25%             2.500000           4.70000                  1.000000   \n",
      "50%             7.500000          12.90000                  1.000000   \n",
      "75%            23.000000          39.50000                  2.000000   \n",
      "max          1558.800000        3566.40000                  6.000000   \n",
      "\n",
      "       air_quality_gb-defra-index  moon_illumination  \n",
      "count                40346.000000       40346.000000  \n",
      "mean                     2.456427          52.067268  \n",
      "std                      2.682182          35.314977  \n",
      "min                      1.000000           0.000000  \n",
      "25%                      1.000000          17.000000  \n",
      "50%                      1.000000          53.000000  \n",
      "75%                      2.000000          88.000000  \n",
      "max                     10.000000         100.000000  \n",
      "\n",
      "[8 rows x 30 columns]\n"
     ]
    }
   ],
   "source": [
    "# Descriptive Statistics for Weather data\n",
    "print(df_weather.describe())\n",
    "# Pass"
   ]
  },
  {
   "cell_type": "code",
   "execution_count": 112,
   "id": "77631c55-5c1b-4f66-a40a-ae15b8253045",
   "metadata": {},
   "outputs": [
    {
     "name": "stdout",
     "output_type": "stream",
     "text": [
      "        Unnamed: 0    vote_count  vote_average\n",
      "count  10000.00000  10000.000000  10000.000000\n",
      "mean    4999.50000   1020.825100      6.306230\n",
      "std     2886.89568   1992.305005      1.354259\n",
      "min        0.00000      0.000000      0.000000\n",
      "25%     2499.75000    143.000000      5.800000\n",
      "50%     4999.50000    332.000000      6.500000\n",
      "75%     7499.25000    926.250000      7.100000\n",
      "max     9999.00000  25148.000000     10.000000\n"
     ]
    }
   ],
   "source": [
    "# Descriptive Statistics for IMDB data\n",
    "print(df_imdb.describe())\n",
    "# Not Pass"
   ]
  },
  {
   "cell_type": "code",
   "execution_count": 114,
   "id": "1865de45-643e-4bb1-bb13-ae653abfec8a",
   "metadata": {},
   "outputs": [
    {
     "name": "stdout",
     "output_type": "stream",
     "text": [
      "title\n",
      "Dracula                                4\n",
      "Beauty and the Beast                   4\n",
      "Godzilla                               3\n",
      "Fallen                                 3\n",
      "Les Misérables                         3\n",
      "                                      ..\n",
      "The Imaginarium of Doctor Parnassus    1\n",
      "Along Came Polly                       1\n",
      "Grand Illusion                         1\n",
      "Teenage Mutant Ninja Turtles III       1\n",
      "Woochi: The Demon Slayer               1\n",
      "Name: count, Length: 9689, dtype: int64\n",
      "\n",
      "\n",
      "overview\n",
      "Plot unknown.                                                                                                                                                                                                                                                                                                                                             5\n",
      "The plot is unknown at this time.                                                                                                                                                                                                                                                                                                                         2\n",
      "Wilbur the pig is scared of the end of the season, because he knows that come that time, he will end up on the dinner table. He hatches a plan with Charlotte, a spider that lives in his pen, to ensure that this will never happen.                                                                                                                     2\n",
      "Bernie works at a Las Vegas casino, where he uses his innate ability to bring about misfortune in those around him to jinx gamblers into losing. His imposing boss, Shelly Kaplow, is happy with the arrangement. But Bernie finds unexpected happiness when he begins dating attractive waitress Natalie Belisario.                                      1\n",
      "A fat Lawyer finds himself growing \"Thinner\" when an old gypsy man places a hex on him. Now the lawyer must call upon his friends in organized crime to help him persuade the gypsy to lift the curse. Time is running out for the desperate lawyer as he draws closer to his own death, and grows ever thinner.                                          1\n",
      "                                                                                                                                                                                                                                                                                                                                                         ..\n",
      "Six short stories that explore the extremities of human behavior involving people in distress.                                                                                                                                                                                                                                                            1\n",
      "King Randolph sends for his cousin Duchess Rowena to help turn his daughters, Princess Genevieve and her 11 sisters, into better ladies. But the Duchess takes away all the sisters fun, including the sisters favorite pastime: dancing.Thinking all hope is lost they find a secret passageway to a magical land were they can dance the night away.    1\n",
      "An orphaned boy raised by underground creatures called Boxtrolls comes up from the sewers and out of his box to save his family and the town from the evil exterminator, Archibald Snatcher.                                                                                                                                                              1\n",
      "At an exclusive country club, an ambitious young caddy, Danny Noonan, eagerly pursues a caddy scholarship in hopes of attending college and, in turn, avoiding a job at the lumber yard. In order to succeed, he must first win the favour of the elitist Judge Smails, and then the caddy golf tournament which Smails sponsors.                         1\n",
      "Spanning four centuries in Korea, this epic action-adventure concerns a powerful pipe and a trio of wizards who will do anything to protect it.                                                                                                                                                                                                           1\n",
      "Name: count, Length: 9964, dtype: int64\n",
      "\n",
      "\n",
      "original_language\n",
      "en    8326\n",
      "fr     385\n",
      "ja     269\n",
      "it     152\n",
      "es     145\n",
      "de      96\n",
      "ko      92\n",
      "cn      72\n",
      "zh      71\n",
      "hi      70\n",
      "ru      69\n",
      "da      32\n",
      "sv      30\n",
      "pt      22\n",
      "id      21\n",
      "ta      18\n",
      "nl      13\n",
      "no      13\n",
      "tr      12\n",
      "pl      10\n",
      "tl       9\n",
      "th       9\n",
      "ar       6\n",
      "sr       6\n",
      "te       5\n",
      "fa       5\n",
      "cs       4\n",
      "ml       4\n",
      "he       4\n",
      "fi       3\n",
      "hu       3\n",
      "af       2\n",
      "el       2\n",
      "ro       2\n",
      "ab       1\n",
      "lv       1\n",
      "mr       1\n",
      "ka       1\n",
      "ms       1\n",
      "vi       1\n",
      "et       1\n",
      "eu       1\n",
      "sh       1\n",
      "bs       1\n",
      "nb       1\n",
      "pa       1\n",
      "la       1\n",
      "is       1\n",
      "xx       1\n",
      "mk       1\n",
      "sq       1\n",
      "uk       1\n",
      "Name: count, dtype: int64\n",
      "\n",
      "\n"
     ]
    }
   ],
   "source": [
    "# Descriptive Statistics for categorical IMDB data\n",
    "for column in df_imdb.select_dtypes(include=['object']).columns:\n",
    "    print(df_imdb[column].value_counts())\n",
    "    print(\"\\n\")\n",
    "# Not Pass"
   ]
  },
  {
   "cell_type": "markdown",
   "id": "c8da2f04-e63b-467e-8836-dc4e48b7eb0b",
   "metadata": {},
   "source": [
    "### 6. Distribution Analysis"
   ]
  },
  {
   "cell_type": "code",
   "execution_count": 14,
   "id": "8cfa38d4-02af-40c6-bb73-7a5744cd53b8",
   "metadata": {},
   "outputs": [
    {
     "data": {
      "image/png": "[encoded data removed]",
      "text/plain": [
       "<Figure size 1400x600 with 1 Axes>"
      ]
     },
     "metadata": {},
     "output_type": "display_data"
    }
   ],
   "source": [
    "#df_climate\n",
    "# Distribution of temperature in the first notation\n",
    "plt.figure(figsize=(14, 6))  \n",
    "plt.hist(df_climate['F1961'], bins=30, color='lightblue', edgecolor='black')  \n",
    "plt.title('Distribution of Temperature in 1961')\n",
    "plt.xlabel('Temperature Celsius')\n",
    "plt.ylabel('Frequency')\n",
    "plt.show()"
   ]
  },
  {
   "cell_type": "code",
   "execution_count": 162,
   "id": "38a850a7-157a-406b-82c9-c5b8c950e04b",
   "metadata": {},
   "outputs": [
    {
     "data": {
      "image/png": "[encoded data removed]",
      "text/plain": [
       "<Figure size 1400x600 with 1 Axes>"
      ]
     },
     "metadata": {},
     "output_type": "display_data"
    }
   ],
   "source": [
    "#df_climate\n",
    "# Distribution of temperature in the last notation\n",
    "plt.figure(figsize=(14, 6)) \n",
    "plt.hist(df_climate['F2022'], bins=30, color='lightblue', edgecolor='black') \n",
    "plt.title('Distribution of Temperature in F2022') \n",
    "plt.xlabel('Temperature Celsius') \n",
    "plt.ylabel('Frequency')\n",
    "plt.show()"
   ]
  },
  {
   "cell_type": "code",
   "execution_count": 15,
   "id": "b2117336-395f-4c25-a88f-41715ee6c658",
   "metadata": {},
   "outputs": [
    {
     "data": {
      "image/png": "[encoded data removed]",
      "text/plain": [
       "<Figure size 1400x600 with 1 Axes>"
      ]
     },
     "metadata": {},
     "output_type": "display_data"
    }
   ],
   "source": [
    "#df_weather\n",
    "# Distribution of temperature\n",
    "plt.figure(figsize=(14, 6)) \n",
    "plt.hist(df_weather['temperature_celsius'], bins=40, color='lightblue', edgecolor='black') \n",
    "plt.title('Distribution of Temperature') \n",
    "plt.xlabel('Temperature Celsius') \n",
    "plt.ylabel('Frequency')\n",
    "plt.show()"
   ]
  },
  {
   "cell_type": "code",
   "execution_count": 16,
   "id": "54ebb846-4a04-4063-af97-b79a4af8ea42",
   "metadata": {},
   "outputs": [
    {
     "data": {
      "image/png": "[encoded data removed]",
      "text/plain": [
       "<Figure size 1400x600 with 1 Axes>"
      ]
     },
     "metadata": {},
     "output_type": "display_data"
    }
   ],
   "source": [
    "#df_weather\n",
    "# Distribution of Humidity\n",
    "plt.figure(figsize=(14, 6)) \n",
    "plt.hist(df_weather['humidity'], bins=40, color='lightblue', edgecolor='black') \n",
    "plt.title('Distribution of Humidity') \n",
    "plt.xlabel('Humidity') \n",
    "plt.ylabel('Frequency')\n",
    "plt.show()"
   ]
  },
  {
   "cell_type": "code",
   "execution_count": null,
   "id": "634aec7c-a8f2-4813-b07b-079754003d57",
   "metadata": {},
   "outputs": [],
   "source": []
  }
 ],
 "metadata": {
  "kernelspec": {
   "display_name": "Python 3 (ipykernel)",
   "language": "python",
   "name": "python3"
  },
  "language_info": {
   "codemirror_mode": {
    "name": "ipython",
    "version": 3
   },
   "file_extension": ".py",
   "mimetype": "text/x-python",
   "name": "python",
   "nbconvert_exporter": "python",
   "pygments_lexer": "ipython3",
   "version": "3.11.5"
  }
 },
 "nbformat": 4,
 "nbformat_minor": 5
}
